{
  "cells": [
    {
      "cell_type": "markdown",
      "metadata": {},
      "source": [
        "# Dashboard de Segmentaci\u00f3n Bancaria\n",
        "Este notebook permite migrar datos a Firestore y visualizarlos con Pandas."
      ]
    },
    {
      "cell_type": "code",
      "metadata": {},
      "source": [
        "!pip install firebase-admin pandas"
      ]
    },
    {
      "cell_type": "code",
      "metadata": {},
      "source": [
        "import pandas as pd\n",
        "import firebase_admin\n",
        "from firebase_admin import credentials, firestore"
      ]
    },
    {
      "cell_type": "code",
      "metadata": {},
      "source": [
        "cred = credentials.Certificate('firebase_key.json')\n",
        "firebase_admin.initialize_app(cred)\n",
        "db = firestore.client()"
      ]
    },
    {
      "cell_type": "code",
      "metadata": {},
      "source": [
        "df = pd.read_csv('notebooks/segmentation_data_recruitment.csv')\n",
        "ref = db.collection('clients')\n",
        "for record in df.to_dict(orient='records'):\n",
        "    ref.add(record)"
      ]
    },
    {
      "cell_type": "code",
      "metadata": {},
      "source": [
        "def load_clients():\n",
        "    docs = db.collection('clients').stream()\n",
        "    return pd.DataFrame([doc.to_dict() for doc in docs])\n\n",
        "df_clients = load_clients()\n",
        "df_clients.head(20)"
      ]
    }
  ],
  "metadata": {},
  "nbformat": 4,
  "nbformat_minor": 5
}